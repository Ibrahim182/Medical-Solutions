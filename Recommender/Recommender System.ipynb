{
  "cells": [
    {
      "attachments": {},
      "cell_type": "markdown",
      "metadata": {
        "id": "Y_axRSfxvbG2"
      },
      "source": [
        "<h1><center>Content based recommender systems</center></h1>"
      ]
    },
    {
      "cell_type": "markdown",
      "metadata": {
        "id": "cczB4fkzu1a4"
      },
      "source": [
        "## Basic imports"
      ]
    },
    {
      "cell_type": "code",
      "execution_count": 1,
      "metadata": {
        "colab": {
          "base_uri": "https://localhost:8080/",
          "height": 123
        },
        "id": "LN3kAZp4l8IR",
        "outputId": "1605302d-e477-47fa-eb95-ed6bc1ede6db"
      },
      "outputs": [],
      "source": [
        "# Imports\n",
        "import pandas as pd\n",
        "import numpy as np\n",
        "\n",
        "from sklearn.feature_extraction.text import TfidfVectorizer\n",
        "from sklearn.feature_extraction.text import CountVectorizer\n",
        "from sklearn.metrics.pairwise import linear_kernel"
      ]
    },
    {
      "cell_type": "code",
      "execution_count": 2,
      "metadata": {},
      "outputs": [
        {
          "data": {
            "text/html": [
              "<div>\n",
              "<style scoped>\n",
              "    .dataframe tbody tr th:only-of-type {\n",
              "        vertical-align: middle;\n",
              "    }\n",
              "\n",
              "    .dataframe tbody tr th {\n",
              "        vertical-align: top;\n",
              "    }\n",
              "\n",
              "    .dataframe thead th {\n",
              "        text-align: right;\n",
              "    }\n",
              "</style>\n",
              "<table border=\"1\" class=\"dataframe\">\n",
              "  <thead>\n",
              "    <tr style=\"text-align: right;\">\n",
              "      <th></th>\n",
              "      <th>Name</th>\n",
              "      <th>description</th>\n",
              "    </tr>\n",
              "  </thead>\n",
              "  <tbody>\n",
              "    <tr>\n",
              "      <th>0</th>\n",
              "      <td>ketolac</td>\n",
              "      <td>Analgesic belongs to Nonsteroidal Anti-inflamm...</td>\n",
              "    </tr>\n",
              "    <tr>\n",
              "      <th>1</th>\n",
              "      <td>cataflam</td>\n",
              "      <td>Nonsteroidal Anti-inflammatory Drug (NSAID) us...</td>\n",
              "    </tr>\n",
              "    <tr>\n",
              "      <th>2</th>\n",
              "      <td>Catafast</td>\n",
              "      <td>Catafast Powder is used for the treatment,cont...</td>\n",
              "    </tr>\n",
              "    <tr>\n",
              "      <th>3</th>\n",
              "      <td>fast-flam</td>\n",
              "      <td>Inflammation of the bones and joints such as r...</td>\n",
              "    </tr>\n",
              "    <tr>\n",
              "      <th>4</th>\n",
              "      <td>Adwiflam</td>\n",
              "      <td>Used to treat actinic keratosis, a skin proble...</td>\n",
              "    </tr>\n",
              "  </tbody>\n",
              "</table>\n",
              "</div>"
            ],
            "text/plain": [
              "        Name                                        description\n",
              "0    ketolac  Analgesic belongs to Nonsteroidal Anti-inflamm...\n",
              "1   cataflam  Nonsteroidal Anti-inflammatory Drug (NSAID) us...\n",
              "2   Catafast  Catafast Powder is used for the treatment,cont...\n",
              "3  fast-flam  Inflammation of the bones and joints such as r...\n",
              "4   Adwiflam  Used to treat actinic keratosis, a skin proble..."
            ]
          },
          "execution_count": 2,
          "metadata": {},
          "output_type": "execute_result"
        }
      ],
      "source": [
        "df = pd.read_excel(\"medical.xlsx\")\n",
        "df.head()"
      ]
    },
    {
      "attachments": {},
      "cell_type": "markdown",
      "metadata": {
        "id": "Y9mo6zi4wtv2"
      },
      "source": [
        "Calculate the TF-IDF transform"
      ]
    },
    {
      "cell_type": "code",
      "execution_count": 3,
      "metadata": {
        "colab": {
          "base_uri": "https://localhost:8080/",
          "height": 34
        },
        "id": "cfQYbxz3w_ZF",
        "outputId": "151932f9-0505-4a9f-c017-3d51eccf4d7a"
      },
      "outputs": [
        {
          "data": {
            "text/plain": [
              "(26, 255)"
            ]
          },
          "execution_count": 3,
          "metadata": {},
          "output_type": "execute_result"
        }
      ],
      "source": [
        "# Define a TF-IDF Vectorizer Object. Remove all english stop words such as 'the', 'a'\n",
        "tfidf = TfidfVectorizer(stop_words='english')\n",
        "\n",
        "# Replace NaN with an empty string\n",
        "df['description'] = df['description'].fillna('')\n",
        "\n",
        "# Construct the required TF-IDF matrix by fitting and transforming the data\n",
        "tfidf_matrix = tfidf.fit_transform(df['description'])\n",
        "\n",
        "# Output the shape of tfidf_matrix\n",
        "tfidf_matrix.shape"
      ]
    },
    {
      "attachments": {},
      "cell_type": "markdown",
      "metadata": {
        "id": "5fiPMPvzxOjr"
      },
      "source": [
        "Compute the pair-wise cosine similarity\n",
        "\n",
        "\n",
        "Remember: since that:\n",
        "\n",
        "$$x.y = ||x||.||y||.cos(\\theta)$$\n",
        "\n",
        "So \n",
        "$$cos(\\theta) = \\frac{x.y}{||x||||y||}$$\n",
        "\n",
        "So we can use the `linear_kernel` from sklearn, which is faster than `cosine_similarity`"
      ]
    },
    {
      "cell_type": "code",
      "execution_count": 4,
      "metadata": {
        "id": "RZ2VDmWxyHn_"
      },
      "outputs": [],
      "source": [
        "# Compute the cosine Similarity matrix\n",
        "cosine_sim = linear_kernel(tfidf_matrix, tfidf_matrix)"
      ]
    },
    {
      "attachments": {},
      "cell_type": "markdown",
      "metadata": {
        "id": "vb_94M23ySpg"
      },
      "source": [
        "Implement the function `get_recommendations` that produces top most similar medicines, based on cosine_similarity between the TF-IDF scores of descriptions"
      ]
    },
    {
      "cell_type": "code",
      "execution_count": 5,
      "metadata": {
        "id": "cOqFb6chzHFz"
      },
      "outputs": [],
      "source": [
        "# Construct a reverse map of indices and medicine titles\n",
        "indices = pd.Series(df.index, index=df['Name']).drop_duplicates()"
      ]
    },
    {
      "cell_type": "code",
      "execution_count": 6,
      "metadata": {
        "id": "-qbnEe2zyx76"
      },
      "outputs": [],
      "source": [
        "# Function that takes in medicine title as input and outputs most similar medicines\n",
        "def get_recommendations(title, cosine_sim=cosine_sim):\n",
        "    # Get the index of the medicine that matches the title\n",
        "    idx = indices[title]\n",
        "\n",
        "    # Get the pairwsie similarity scores of all medicines with that medicine\n",
        "    sim_scores = list(enumerate(cosine_sim[idx]))\n",
        "\n",
        "    # Sort the medicines based on the similarity scores\n",
        "    sim_scores = sorted(sim_scores, key=lambda x: x[1], reverse=True)\n",
        "\n",
        "    # Get the scores of the top two most similar medicine\n",
        "    sim_scores = sim_scores[1:3]\n",
        "\n",
        "    # Get the medicine indices\n",
        "    medicine_indices = [i[0] for i in sim_scores]\n",
        "\n",
        "    # Return the top most similar medicines\n",
        "    return df['Name'].iloc[medicine_indices]"
      ]
    },
    {
      "cell_type": "code",
      "execution_count": 7,
      "metadata": {
        "colab": {
          "base_uri": "https://localhost:8080/",
          "height": 202
        },
        "id": "e2hRjsfwyz5F",
        "outputId": "48bcf97f-6015-4cbc-950e-d4cb0225fa60"
      },
      "outputs": [
        {
          "name": "stdout",
          "output_type": "stream",
          "text": [
            "1    cataflam\n",
            "0     ketolac\n",
            "Name: Name, dtype: object\n"
          ]
        }
      ],
      "source": [
        "print(get_recommendations('fast-flam'))"
      ]
    },
    {
      "cell_type": "code",
      "execution_count": null,
      "metadata": {},
      "outputs": [],
      "source": []
    }
  ],
  "metadata": {
    "colab": {
      "collapsed_sections": [
        "ZRZ3GyHC0nAx"
      ],
      "machine_shape": "hm",
      "name": "Outline.ipynb",
      "provenance": []
    },
    "kernelspec": {
      "display_name": "Python 3.10.4 ('python_10')",
      "language": "python",
      "name": "python3"
    },
    "language_info": {
      "codemirror_mode": {
        "name": "ipython",
        "version": 3
      },
      "file_extension": ".py",
      "mimetype": "text/x-python",
      "name": "python",
      "nbconvert_exporter": "python",
      "pygments_lexer": "ipython3",
      "version": "3.10.4 | packaged by conda-forge | (main, Mar 30 2022, 08:38:02) [MSC v.1916 64 bit (AMD64)]"
    },
    "vscode": {
      "interpreter": {
        "hash": "b35187bd8e81c46a491b0701dacbc6455fb6bb49fda2ea4057c13cf77d84decb"
      }
    }
  },
  "nbformat": 4,
  "nbformat_minor": 0
}
